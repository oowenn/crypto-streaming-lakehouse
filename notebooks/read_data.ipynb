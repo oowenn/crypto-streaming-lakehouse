{
 "cells": [
  {
   "cell_type": "code",
   "execution_count": 5,
   "metadata": {},
   "outputs": [],
   "source": [
    "from pyspark.sql import SparkSession"
   ]
  },
  {
   "cell_type": "markdown",
   "metadata": {},
   "source": [
    "## Bronze: Ingesting Raw Data"
   ]
  },
  {
   "cell_type": "code",
   "execution_count": 6,
   "metadata": {},
   "outputs": [
    {
     "name": "stdout",
     "output_type": "stream",
     "text": [
      "rows: 515\n",
      "+-------------+---------+------+-----------------------+-------+--------+-------------------------------------------------------------------------------------------------------------------------------------------------------------------+\n",
      "|topic        |partition|offset|ts_kafka               |ts_type|key     |value_raw                                                                                                                                                          |\n",
      "+-------------+---------+------+-----------------------+-------+--------+-------------------------------------------------------------------------------------------------------------------------------------------------------------------+\n",
      "|crypto.trades|0        |514   |2025-09-07 21:34:51.809|0      |XBT/USDT|{\"exchange\":\"kraken\",\"symbol\":\"XBT/USDT\",\"price\":111188.7,\"size\":0.00068434,\"side\":\"sell\",\"order_type\":\"market\",\"ts_event\":1757306091722,\"ts_ingest\":1757306091807}|\n",
      "|crypto.trades|0        |513   |2025-09-07 21:31:19.576|0      |XBT/USDT|{\"exchange\":\"kraken\",\"symbol\":\"XBT/USDT\",\"price\":111139.5,\"size\":0.00360344,\"side\":\"sell\",\"order_type\":\"market\",\"ts_event\":1757305879493,\"ts_ingest\":1757305879576}|\n",
      "|crypto.trades|0        |512   |2025-09-07 21:30:55.935|0      |XBT/USDT|{\"exchange\":\"kraken\",\"symbol\":\"XBT/USDT\",\"price\":111127.9,\"size\":8.999e-05,\"side\":\"buy\",\"order_type\":\"market\",\"ts_event\":1757305855830,\"ts_ingest\":1757305855935}  |\n",
      "|crypto.trades|0        |511   |2025-09-07 21:27:59.143|0      |XBT/USDT|{\"exchange\":\"kraken\",\"symbol\":\"XBT/USDT\",\"price\":111116.4,\"size\":0.00449946,\"side\":\"buy\",\"order_type\":\"limit\",\"ts_event\":1757305679020,\"ts_ingest\":1757305679140}  |\n",
      "|crypto.trades|0        |510   |2025-09-07 21:23:50.022|0      |XBT/USDT|{\"exchange\":\"kraken\",\"symbol\":\"XBT/USDT\",\"price\":111103.3,\"size\":0.00032434,\"side\":\"sell\",\"order_type\":\"market\",\"ts_event\":1757305429743,\"ts_ingest\":1757305430020}|\n",
      "|crypto.trades|0        |509   |2025-09-07 21:17:23.988|0      |XBT/USDT|{\"exchange\":\"kraken\",\"symbol\":\"XBT/USDT\",\"price\":111067.5,\"size\":7.199e-05,\"side\":\"buy\",\"order_type\":\"limit\",\"ts_event\":1757305043868,\"ts_ingest\":1757305043986}   |\n",
      "|crypto.trades|0        |508   |2025-09-07 21:17:23.176|0      |XBT/USDT|{\"exchange\":\"kraken\",\"symbol\":\"XBT/USDT\",\"price\":111067.5,\"size\":0.01823581,\"side\":\"buy\",\"order_type\":\"limit\",\"ts_event\":1757305043103,\"ts_ingest\":1757305043176}  |\n",
      "|crypto.trades|0        |507   |2025-09-07 21:17:23.176|0      |XBT/USDT|{\"exchange\":\"kraken\",\"symbol\":\"XBT/USDT\",\"price\":111067.5,\"size\":0.02683319,\"side\":\"buy\",\"order_type\":\"limit\",\"ts_event\":1757305043103,\"ts_ingest\":1757305043175}  |\n",
      "|crypto.trades|0        |506   |2025-09-07 21:16:50.686|0      |XBT/USDT|{\"exchange\":\"kraken\",\"symbol\":\"XBT/USDT\",\"price\":111067.4,\"size\":0.00090124,\"side\":\"sell\",\"order_type\":\"market\",\"ts_event\":1757305010429,\"ts_ingest\":1757305010685}|\n",
      "|crypto.trades|0        |505   |2025-09-07 21:15:05.082|0      |XBT/USDT|{\"exchange\":\"kraken\",\"symbol\":\"XBT/USDT\",\"price\":111067.5,\"size\":0.00017741,\"side\":\"buy\",\"order_type\":\"limit\",\"ts_event\":1757304905039,\"ts_ingest\":1757304905082}  |\n",
      "+-------------+---------+------+-----------------------+-------+--------+-------------------------------------------------------------------------------------------------------------------------------------------------------------------+\n",
      "only showing top 10 rows\n",
      "\n"
     ]
    }
   ],
   "source": [
    "spark = SparkSession.builder.getOrCreate()\n",
    "df = spark.read.parquet(\"../data/bronze/crypto_trades\")\n",
    "print(\"rows:\", df.count())\n",
    "df.orderBy(\"offset\", ascending=False).show(10, truncate=False)"
   ]
  },
  {
   "cell_type": "markdown",
   "metadata": {},
   "source": [
    "## Silver: Processing Raw Data"
   ]
  },
  {
   "cell_type": "code",
   "execution_count": 7,
   "metadata": {},
   "outputs": [
    {
     "name": "stdout",
     "output_type": "stream",
     "text": [
      "rows: 513\n",
      "+--------+--------+----------+----+-----------------------+-----------------------+\n",
      "|symbol  |price   |size      |side|event_time             |ingest_time            |\n",
      "+--------+--------+----------+----+-----------------------+-----------------------+\n",
      "|XBT/USDT|111188.7|6.8434E-4 |sell|2025-09-07 21:34:51.722|2025-09-07 21:34:51.807|\n",
      "|XBT/USDT|111139.5|0.00360344|sell|2025-09-07 21:31:19.493|2025-09-07 21:31:19.576|\n",
      "|XBT/USDT|111127.9|8.999E-5  |buy |2025-09-07 21:30:55.83 |2025-09-07 21:30:55.935|\n",
      "|XBT/USDT|111116.4|0.00449946|buy |2025-09-07 21:27:59.02 |2025-09-07 21:27:59.14 |\n",
      "|XBT/USDT|111103.3|3.2434E-4 |sell|2025-09-07 21:23:49.743|2025-09-07 21:23:50.02 |\n",
      "|XBT/USDT|111067.5|7.199E-5  |buy |2025-09-07 21:17:23.868|2025-09-07 21:17:23.986|\n",
      "|XBT/USDT|111067.5|0.01823581|buy |2025-09-07 21:17:23.103|2025-09-07 21:17:23.176|\n",
      "|XBT/USDT|111067.5|0.02683319|buy |2025-09-07 21:17:23.103|2025-09-07 21:17:23.175|\n",
      "|XBT/USDT|111067.4|9.0124E-4 |sell|2025-09-07 21:16:50.429|2025-09-07 21:16:50.685|\n",
      "|XBT/USDT|111067.5|1.7741E-4 |buy |2025-09-07 21:15:05.039|2025-09-07 21:15:05.082|\n",
      "+--------+--------+----------+----+-----------------------+-----------------------+\n",
      "only showing top 10 rows\n",
      "\n"
     ]
    }
   ],
   "source": [
    "sdf = spark.read.parquet(\"../data/silver/trades\")\n",
    "print(\"rows:\", sdf.count())\n",
    "sdf.select(\"symbol\",\"price\",\"size\",\"side\",\"event_time\",\"ingest_time\")\\\n",
    "   .orderBy(\"event_time\", ascending=False).show(10, False)\n"
   ]
  },
  {
   "cell_type": "markdown",
   "metadata": {},
   "source": [
    "## Gold: Aggregating to 1 minute Intervals"
   ]
  },
  {
   "cell_type": "code",
   "execution_count": 8,
   "metadata": {},
   "outputs": [
    {
     "name": "stdout",
     "output_type": "stream",
     "text": [
      "rows: 173\n",
      "+--------+-------------------+--------+--------+--------+--------+----------+------------------+------+\n",
      "|symbol  |bar_start          |open    |high    |low     |close   |volume    |vwap              |trades|\n",
      "+--------+-------------------+--------+--------+--------+--------+----------+------------------+------+\n",
      "|XBT/USDT|2025-09-07 21:31:00|111139.5|111139.5|111139.5|111139.5|0.00360344|111139.5          |1     |\n",
      "|XBT/USDT|2025-09-07 21:30:00|111127.9|111127.9|111127.9|111127.9|8.999E-5  |111127.9          |1     |\n",
      "|XBT/USDT|2025-09-07 21:27:00|111116.4|111116.4|111116.4|111116.4|0.00449946|111116.4          |1     |\n",
      "|XBT/USDT|2025-09-07 21:23:00|111103.3|111103.3|111103.3|111103.3|3.2434E-4 |111103.30000000002|1     |\n",
      "|XBT/USDT|2025-09-07 21:17:00|111067.5|111067.5|111067.5|111067.5|0.04514099|111067.50000000003|3     |\n",
      "|XBT/USDT|2025-09-07 21:16:00|111067.4|111067.4|111067.4|111067.4|9.0124E-4 |111067.4          |1     |\n",
      "|XBT/USDT|2025-09-07 21:15:00|111067.5|111067.5|111067.5|111067.5|1.7741E-4 |111067.5          |1     |\n",
      "|XBT/USDT|2025-09-07 21:14:00|111031.0|111031.0|111031.0|111031.0|0.00238014|111031.0          |1     |\n",
      "|XBT/USDT|2025-09-07 21:11:00|110987.2|110987.2|110987.2|110987.2|9.01E-5   |110987.2          |1     |\n",
      "|XBT/USDT|2025-09-07 21:10:00|110987.3|110987.3|110987.3|110987.3|9.001E-5  |110987.3          |1     |\n",
      "+--------+-------------------+--------+--------+--------+--------+----------+------------------+------+\n",
      "only showing top 10 rows\n",
      "\n"
     ]
    }
   ],
   "source": [
    "g = spark.read.parquet(\"../data/gold/bars_1m\")\n",
    "print(f'rows: {g.count()}')\n",
    "g.orderBy(\"bar_start\", ascending=False).select(\"symbol\",\"bar_start\",\"open\",\"high\",\"low\",\"close\",\"volume\",\"vwap\",\"trades\").show(10, False)\n"
   ]
  },
  {
   "cell_type": "code",
   "execution_count": null,
   "metadata": {},
   "outputs": [],
   "source": []
  }
 ],
 "metadata": {
  "kernelspec": {
   "display_name": ".venv",
   "language": "python",
   "name": "python3"
  },
  "language_info": {
   "codemirror_mode": {
    "name": "ipython",
    "version": 3
   },
   "file_extension": ".py",
   "mimetype": "text/x-python",
   "name": "python",
   "nbconvert_exporter": "python",
   "pygments_lexer": "ipython3",
   "version": "3.13.1"
  }
 },
 "nbformat": 4,
 "nbformat_minor": 2
}
