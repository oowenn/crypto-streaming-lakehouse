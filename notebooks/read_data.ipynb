{
 "cells": [
  {
   "cell_type": "code",
   "execution_count": 1,
   "metadata": {},
   "outputs": [],
   "source": [
    "from pyspark.sql import SparkSession"
   ]
  },
  {
   "cell_type": "markdown",
   "metadata": {},
   "source": [
    "## Bronze: Ingesting Raw Data"
   ]
  },
  {
   "cell_type": "code",
   "execution_count": 2,
   "metadata": {},
   "outputs": [
    {
     "name": "stderr",
     "output_type": "stream",
     "text": [
      "Setting default log level to \"WARN\".\n",
      "To adjust logging level use sc.setLogLevel(newLevel). For SparkR, use setLogLevel(newLevel).\n",
      "25/09/17 15:04:47 WARN NativeCodeLoader: Unable to load native-hadoop library for your platform... using builtin-java classes where applicable\n",
      "                                                                                \r"
     ]
    },
    {
     "name": "stdout",
     "output_type": "stream",
     "text": [
      "rows: 612\n",
      "+-------------+---------+------+-----------------------+-------+--------+------------------------------------------------------------------------------------------------------------------------------------------------------------------+\n",
      "|topic        |partition|offset|ts_kafka               |ts_type|key     |value_raw                                                                                                                                                         |\n",
      "+-------------+---------+------+-----------------------+-------+--------+------------------------------------------------------------------------------------------------------------------------------------------------------------------+\n",
      "|crypto.trades|0        |611   |2025-09-17 14:48:54.93 |0      |XBT/USDT|{\"exchange\":\"kraken\",\"symbol\":\"XBT/USDT\",\"price\":115998.6,\"size\":0.00055534,\"side\":\"sell\",\"order_type\":\"limit\",\"ts_event\":1758145734843,\"ts_ingest\":1758145734930}|\n",
      "|crypto.trades|0        |610   |2025-09-17 14:48:54.93 |0      |XBT/USDT|{\"exchange\":\"kraken\",\"symbol\":\"XBT/USDT\",\"price\":115998.6,\"size\":0.00059814,\"side\":\"sell\",\"order_type\":\"limit\",\"ts_event\":1758145734836,\"ts_ingest\":1758145734930}|\n",
      "|crypto.trades|0        |609   |2025-09-17 14:48:54.929|0      |XBT/USDT|{\"exchange\":\"kraken\",\"symbol\":\"XBT/USDT\",\"price\":115998.6,\"size\":0.00055415,\"side\":\"sell\",\"order_type\":\"limit\",\"ts_event\":1758145734830,\"ts_ingest\":1758145734929}|\n",
      "|crypto.trades|0        |608   |2025-09-17 14:48:54.929|0      |XBT/USDT|{\"exchange\":\"kraken\",\"symbol\":\"XBT/USDT\",\"price\":115998.6,\"size\":0.00059848,\"side\":\"sell\",\"order_type\":\"limit\",\"ts_event\":1758145734823,\"ts_ingest\":1758145734929}|\n",
      "|crypto.trades|0        |607   |2025-09-17 14:48:54.929|0      |XBT/USDT|{\"exchange\":\"kraken\",\"symbol\":\"XBT/USDT\",\"price\":115998.6,\"size\":0.00055272,\"side\":\"sell\",\"order_type\":\"limit\",\"ts_event\":1758145734817,\"ts_ingest\":1758145734929}|\n",
      "|crypto.trades|0        |606   |2025-09-17 14:48:54.929|0      |XBT/USDT|{\"exchange\":\"kraken\",\"symbol\":\"XBT/USDT\",\"price\":115998.6,\"size\":0.00121791,\"side\":\"sell\",\"order_type\":\"limit\",\"ts_event\":1758145734803,\"ts_ingest\":1758145734929}|\n",
      "|crypto.trades|0        |605   |2025-09-17 14:48:54.881|0      |XBT/USDT|{\"exchange\":\"kraken\",\"symbol\":\"XBT/USDT\",\"price\":115998.6,\"size\":0.00055176,\"side\":\"sell\",\"order_type\":\"limit\",\"ts_event\":1758145734802,\"ts_ingest\":1758145734881}|\n",
      "|crypto.trades|0        |604   |2025-09-17 14:48:54.879|0      |XBT/USDT|{\"exchange\":\"kraken\",\"symbol\":\"XBT/USDT\",\"price\":115998.6,\"size\":0.0005508,\"side\":\"sell\",\"order_type\":\"limit\",\"ts_event\":1758145734786,\"ts_ingest\":1758145734879} |\n",
      "|crypto.trades|0        |603   |2025-09-17 14:48:54.879|0      |XBT/USDT|{\"exchange\":\"kraken\",\"symbol\":\"XBT/USDT\",\"price\":115998.6,\"size\":0.00054984,\"side\":\"sell\",\"order_type\":\"limit\",\"ts_event\":1758145734770,\"ts_ingest\":1758145734879}|\n",
      "|crypto.trades|0        |602   |2025-09-17 14:48:54.879|0      |XBT/USDT|{\"exchange\":\"kraken\",\"symbol\":\"XBT/USDT\",\"price\":115998.6,\"size\":0.00054888,\"side\":\"sell\",\"order_type\":\"limit\",\"ts_event\":1758145734754,\"ts_ingest\":1758145734879}|\n",
      "+-------------+---------+------+-----------------------+-------+--------+------------------------------------------------------------------------------------------------------------------------------------------------------------------+\n",
      "only showing top 10 rows\n",
      "\n"
     ]
    }
   ],
   "source": [
    "spark = SparkSession.builder.getOrCreate()\n",
    "df = spark.read.parquet(\"data/bronze/crypto_trades\")\n",
    "print(\"rows:\", df.count())\n",
    "df.orderBy(\"offset\", ascending=False).show(10, truncate=False)"
   ]
  },
  {
   "cell_type": "markdown",
   "metadata": {},
   "source": [
    "## Silver: Processing Raw Data"
   ]
  },
  {
   "cell_type": "code",
   "execution_count": 3,
   "metadata": {},
   "outputs": [
    {
     "name": "stdout",
     "output_type": "stream",
     "text": [
      "rows: 595\n",
      "+--------+--------+----------+----+-----------------------+-----------------------+\n",
      "|symbol  |price   |size      |side|event_time             |ingest_time            |\n",
      "+--------+--------+----------+----+-----------------------+-----------------------+\n",
      "|XBT/USDT|115976.8|0.00176792|sell|2025-09-17 14:48:47.963|2025-09-17 14:48:48.038|\n",
      "|XBT/USDT|115976.8|2.5684E-4 |sell|2025-09-17 14:48:46.402|2025-09-17 14:48:46.475|\n",
      "|XBT/USDT|115979.9|2.4646E-4 |sell|2025-09-17 14:48:46.37 |2025-09-17 14:48:46.441|\n",
      "|XBT/USDT|115979.9|2.4619E-4 |sell|2025-09-17 14:48:46.361|2025-09-17 14:48:46.431|\n",
      "|XBT/USDT|115979.9|2.4592E-4 |sell|2025-09-17 14:48:46.351|2025-09-17 14:48:46.423|\n",
      "|XBT/USDT|115976.5|5.54E-4   |sell|2025-09-17 14:46:43.057|2025-09-17 14:46:43.136|\n",
      "|XBT/USDT|115976.5|5.5234E-4 |sell|2025-09-17 14:46:43.047|2025-09-17 14:46:43.123|\n",
      "|XBT/USDT|115976.5|5.5069E-4 |sell|2025-09-17 14:46:43.037|2025-09-17 14:46:43.114|\n",
      "|XBT/USDT|115976.5|5.4905E-4 |sell|2025-09-17 14:46:43.027|2025-09-17 14:46:43.108|\n",
      "|XBT/USDT|115976.5|5.4741E-4 |sell|2025-09-17 14:46:43.017|2025-09-17 14:46:43.108|\n",
      "+--------+--------+----------+----+-----------------------+-----------------------+\n",
      "only showing top 10 rows\n",
      "\n"
     ]
    }
   ],
   "source": [
    "sdf = spark.read.parquet(\"../data/silver/trades\")\n",
    "print(\"rows:\", sdf.count())\n",
    "sdf.select(\"symbol\",\"price\",\"size\",\"side\",\"event_time\",\"ingest_time\")\\\n",
    "   .orderBy(\"event_time\", ascending=False).show(10, False)\n"
   ]
  },
  {
   "cell_type": "markdown",
   "metadata": {},
   "source": [
    "## Gold: Aggregating to 1 minute Intervals"
   ]
  },
  {
   "cell_type": "code",
   "execution_count": 4,
   "metadata": {},
   "outputs": [
    {
     "name": "stdout",
     "output_type": "stream",
     "text": [
      "rows: 174\n",
      "+--------+-------------------+--------+--------+--------+--------+----------+------------------+------+\n",
      "|symbol  |bar_start          |open    |high    |low     |close   |volume    |vwap              |trades|\n",
      "+--------+-------------------+--------+--------+--------+--------+----------+------------------+------+\n",
      "|XBT/USDT|2025-09-07 21:34:00|111188.7|111188.7|111188.7|111188.7|6.8434E-4 |111188.70000000001|1     |\n",
      "|XBT/USDT|2025-09-07 21:31:00|111139.5|111139.5|111139.5|111139.5|0.00360344|111139.5          |1     |\n",
      "|XBT/USDT|2025-09-07 21:30:00|111127.9|111127.9|111127.9|111127.9|8.999E-5  |111127.9          |1     |\n",
      "|XBT/USDT|2025-09-07 21:27:00|111116.4|111116.4|111116.4|111116.4|0.00449946|111116.4          |1     |\n",
      "|XBT/USDT|2025-09-07 21:23:00|111103.3|111103.3|111103.3|111103.3|3.2434E-4 |111103.30000000002|1     |\n",
      "|XBT/USDT|2025-09-07 21:17:00|111067.5|111067.5|111067.5|111067.5|0.04514099|111067.50000000003|3     |\n",
      "|XBT/USDT|2025-09-07 21:16:00|111067.4|111067.4|111067.4|111067.4|9.0124E-4 |111067.4          |1     |\n",
      "|XBT/USDT|2025-09-07 21:15:00|111067.5|111067.5|111067.5|111067.5|1.7741E-4 |111067.5          |1     |\n",
      "|XBT/USDT|2025-09-07 21:14:00|111031.0|111031.0|111031.0|111031.0|0.00238014|111031.0          |1     |\n",
      "|XBT/USDT|2025-09-07 21:11:00|110987.2|110987.2|110987.2|110987.2|9.01E-5   |110987.2          |1     |\n",
      "+--------+-------------------+--------+--------+--------+--------+----------+------------------+------+\n",
      "only showing top 10 rows\n",
      "\n"
     ]
    }
   ],
   "source": [
    "g = spark.read.parquet(\"../data/gold/bars_1m\")\n",
    "print(f'rows: {g.count()}')\n",
    "g.orderBy(\"bar_start\", ascending=False).select(\"symbol\",\"bar_start\",\"open\",\"high\",\"low\",\"close\",\"volume\",\"vwap\",\"trades\").show(10, False)\n"
   ]
  },
  {
   "cell_type": "code",
   "execution_count": null,
   "metadata": {},
   "outputs": [],
   "source": []
  }
 ],
 "metadata": {
  "kernelspec": {
   "display_name": ".venv",
   "language": "python",
   "name": "python3"
  },
  "language_info": {
   "codemirror_mode": {
    "name": "ipython",
    "version": 3
   },
   "file_extension": ".py",
   "mimetype": "text/x-python",
   "name": "python",
   "nbconvert_exporter": "python",
   "pygments_lexer": "ipython3",
   "version": "3.13.1"
  }
 },
 "nbformat": 4,
 "nbformat_minor": 2
}
