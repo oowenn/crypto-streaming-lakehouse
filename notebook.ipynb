{
 "cells": [
  {
   "cell_type": "code",
   "execution_count": 3,
   "metadata": {},
   "outputs": [],
   "source": [
    "from pyspark.sql import SparkSession"
   ]
  },
  {
   "cell_type": "markdown",
   "metadata": {},
   "source": [
    "## Bronze: Ingesting Raw Data"
   ]
  },
  {
   "cell_type": "code",
   "execution_count": 4,
   "metadata": {},
   "outputs": [
    {
     "name": "stderr",
     "output_type": "stream",
     "text": [
      "Setting default log level to \"WARN\".\n",
      "To adjust logging level use sc.setLogLevel(newLevel). For SparkR, use setLogLevel(newLevel).\n",
      "25/09/02 13:10:05 WARN NativeCodeLoader: Unable to load native-hadoop library for your platform... using builtin-java classes where applicable\n",
      "25/09/02 13:10:06 WARN Utils: Service 'SparkUI' could not bind on port 4040. Attempting port 4041.\n",
      "                                                                                \r"
     ]
    },
    {
     "name": "stdout",
     "output_type": "stream",
     "text": [
      "rows: 38\n",
      "+-------------+---------+------+-----------------------+-------+--------+-------------------------------------------------------------------------------------------------------------------------------------------------------------------+\n",
      "|topic        |partition|offset|ts_kafka               |ts_type|key     |value_raw                                                                                                                                                          |\n",
      "+-------------+---------+------+-----------------------+-------+--------+-------------------------------------------------------------------------------------------------------------------------------------------------------------------+\n",
      "|crypto.trades|0        |37    |2025-09-02 12:51:34.854|0      |XBT/USDT|{\"exchange\":\"kraken\",\"symbol\":\"XBT/USDT\",\"price\":110701.0,\"size\":0.00018084,\"side\":\"sell\",\"order_type\":\"market\",\"ts_event\":1756842694772,\"ts_ingest\":1756842694854}|\n",
      "|crypto.trades|0        |36    |2025-09-02 12:51:13.375|0      |XBT/USDT|{\"exchange\":\"kraken\",\"symbol\":\"XBT/USDT\",\"price\":110749.2,\"size\":2.19e-05,\"side\":\"sell\",\"order_type\":\"limit\",\"ts_event\":1756842673295,\"ts_ingest\":1756842673375}   |\n",
      "|crypto.trades|0        |35    |2025-09-02 12:50:51.65 |0      |XBT/USDT|{\"exchange\":\"kraken\",\"symbol\":\"XBT/USDT\",\"price\":110729.3,\"size\":0.00018624,\"side\":\"sell\",\"order_type\":\"market\",\"ts_event\":1756842651566,\"ts_ingest\":1756842651649}|\n",
      "|crypto.trades|0        |34    |2025-09-02 12:50:01.705|0      |XBT/USDT|{\"exchange\":\"kraken\",\"symbol\":\"XBT/USDT\",\"price\":110708.6,\"size\":0.0094,\"side\":\"buy\",\"order_type\":\"limit\",\"ts_event\":1756842601380,\"ts_ingest\":1756842601705}      |\n",
      "|crypto.trades|0        |33    |2025-09-02 12:49:08.531|0      |XBT/USDT|{\"exchange\":\"kraken\",\"symbol\":\"XBT/USDT\",\"price\":110728.8,\"size\":0.02277176,\"side\":\"buy\",\"order_type\":\"limit\",\"ts_event\":1756842548451,\"ts_ingest\":1756842548531}  |\n",
      "|crypto.trades|0        |32    |2025-09-02 12:48:52.781|0      |XBT/USDT|{\"exchange\":\"kraken\",\"symbol\":\"XBT/USDT\",\"price\":110716.5,\"size\":0.00040133,\"side\":\"sell\",\"order_type\":\"market\",\"ts_event\":1756842532699,\"ts_ingest\":1756842532781}|\n",
      "|crypto.trades|0        |31    |2025-09-02 12:48:48.526|0      |XBT/USDT|{\"exchange\":\"kraken\",\"symbol\":\"XBT/USDT\",\"price\":110702.6,\"size\":8.514e-05,\"side\":\"sell\",\"order_type\":\"limit\",\"ts_event\":1756842528447,\"ts_ingest\":1756842528525}  |\n",
      "|crypto.trades|0        |30    |2025-09-02 12:48:04.822|0      |XBT/USDT|{\"exchange\":\"kraken\",\"symbol\":\"XBT/USDT\",\"price\":110636.5,\"size\":0.0094,\"side\":\"sell\",\"order_type\":\"limit\",\"ts_event\":1756842484698,\"ts_ingest\":1756842484822}     |\n",
      "|crypto.trades|0        |29    |2025-09-02 12:47:20.446|0      |XBT/USDT|{\"exchange\":\"kraken\",\"symbol\":\"XBT/USDT\",\"price\":110585.7,\"size\":2.19e-05,\"side\":\"buy\",\"order_type\":\"limit\",\"ts_event\":1756842440345,\"ts_ingest\":1756842440444}    |\n",
      "|crypto.trades|0        |28    |2025-09-02 12:47:07.887|0      |XBT/USDT|{\"exchange\":\"kraken\",\"symbol\":\"XBT/USDT\",\"price\":110584.7,\"size\":0.00059904,\"side\":\"buy\",\"order_type\":\"limit\",\"ts_event\":1756842427750,\"ts_ingest\":1756842427887}  |\n",
      "+-------------+---------+------+-----------------------+-------+--------+-------------------------------------------------------------------------------------------------------------------------------------------------------------------+\n",
      "only showing top 10 rows\n",
      "\n"
     ]
    }
   ],
   "source": [
    "spark = SparkSession.builder.getOrCreate()\n",
    "df = spark.read.parquet(\"data/bronze/crypto_trades\")\n",
    "print(\"rows:\", df.count())\n",
    "df.orderBy(\"offset\", ascending=False).show(10, truncate=False)"
   ]
  },
  {
   "cell_type": "markdown",
   "metadata": {},
   "source": [
    "## Silver: Processing Raw Data"
   ]
  },
  {
   "cell_type": "code",
   "execution_count": 5,
   "metadata": {},
   "outputs": [
    {
     "name": "stdout",
     "output_type": "stream",
     "text": [
      "rows: 38\n",
      "+--------+--------+----------+----+-----------------------+-----------------------+\n",
      "|symbol  |price   |size      |side|event_time             |ingest_time            |\n",
      "+--------+--------+----------+----+-----------------------+-----------------------+\n",
      "|XBT/USDT|110701.0|1.8084E-4 |sell|2025-09-02 12:51:34.772|2025-09-02 12:51:34.854|\n",
      "|XBT/USDT|110749.2|2.19E-5   |sell|2025-09-02 12:51:13.295|2025-09-02 12:51:13.375|\n",
      "|XBT/USDT|110729.3|1.8624E-4 |sell|2025-09-02 12:50:51.566|2025-09-02 12:50:51.649|\n",
      "|XBT/USDT|110708.6|0.0094    |buy |2025-09-02 12:50:01.38 |2025-09-02 12:50:01.705|\n",
      "|XBT/USDT|110728.8|0.02277176|buy |2025-09-02 12:49:08.451|2025-09-02 12:49:08.531|\n",
      "|XBT/USDT|110716.5|4.0133E-4 |sell|2025-09-02 12:48:52.699|2025-09-02 12:48:52.781|\n",
      "|XBT/USDT|110702.6|8.514E-5  |sell|2025-09-02 12:48:48.447|2025-09-02 12:48:48.525|\n",
      "|XBT/USDT|110636.5|0.0094    |sell|2025-09-02 12:48:04.698|2025-09-02 12:48:04.822|\n",
      "|XBT/USDT|110585.7|2.19E-5   |buy |2025-09-02 12:47:20.345|2025-09-02 12:47:20.444|\n",
      "|XBT/USDT|110584.7|5.9904E-4 |buy |2025-09-02 12:47:07.75 |2025-09-02 12:47:07.887|\n",
      "+--------+--------+----------+----+-----------------------+-----------------------+\n",
      "only showing top 10 rows\n",
      "\n",
      "root\n",
      " |-- topic: string (nullable = true)\n",
      " |-- partition: integer (nullable = true)\n",
      " |-- offset: long (nullable = true)\n",
      " |-- ts_kafka: timestamp (nullable = true)\n",
      " |-- key: string (nullable = true)\n",
      " |-- value_raw: string (nullable = true)\n",
      " |-- exchange: string (nullable = true)\n",
      " |-- symbol: string (nullable = true)\n",
      " |-- price: double (nullable = true)\n",
      " |-- size: double (nullable = true)\n",
      " |-- side: string (nullable = true)\n",
      " |-- order_type: string (nullable = true)\n",
      " |-- event_time: timestamp (nullable = true)\n",
      " |-- ingest_time: timestamp (nullable = true)\n",
      " |-- event_date: date (nullable = true)\n",
      "\n"
     ]
    }
   ],
   "source": [
    "sdf = spark.read.parquet(\"data/silver/trades\")\n",
    "print(\"rows:\", sdf.count())\n",
    "sdf.select(\"symbol\",\"price\",\"size\",\"side\",\"event_time\",\"ingest_time\")\\\n",
    "   .orderBy(\"event_time\", ascending=False).show(10, False)\n",
    "sdf.printSchema()\n"
   ]
  },
  {
   "cell_type": "code",
   "execution_count": null,
   "metadata": {},
   "outputs": [],
   "source": []
  }
 ],
 "metadata": {
  "kernelspec": {
   "display_name": ".venv",
   "language": "python",
   "name": "python3"
  },
  "language_info": {
   "codemirror_mode": {
    "name": "ipython",
    "version": 3
   },
   "file_extension": ".py",
   "mimetype": "text/x-python",
   "name": "python",
   "nbconvert_exporter": "python",
   "pygments_lexer": "ipython3",
   "version": "3.13.1"
  }
 },
 "nbformat": 4,
 "nbformat_minor": 2
}
