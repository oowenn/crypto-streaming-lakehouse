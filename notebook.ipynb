{
 "cells": [
  {
   "cell_type": "code",
   "execution_count": 4,
   "metadata": {},
   "outputs": [
    {
     "name": "stdout",
     "output_type": "stream",
     "text": [
      "rows: 37\n",
      "+-------------+---------+------+-----------------------+-------+--------+-------------------------------------------------------------------------------------------------------------------------------------------------------------------+\n",
      "|topic        |partition|offset|ts_kafka               |ts_type|key     |value_raw                                                                                                                                                          |\n",
      "+-------------+---------+------+-----------------------+-------+--------+-------------------------------------------------------------------------------------------------------------------------------------------------------------------+\n",
      "|crypto.trades|0        |36    |2025-09-02 12:51:13.375|0      |XBT/USDT|{\"exchange\":\"kraken\",\"symbol\":\"XBT/USDT\",\"price\":110749.2,\"size\":2.19e-05,\"side\":\"sell\",\"order_type\":\"limit\",\"ts_event\":1756842673295,\"ts_ingest\":1756842673375}   |\n",
      "|crypto.trades|0        |35    |2025-09-02 12:50:51.65 |0      |XBT/USDT|{\"exchange\":\"kraken\",\"symbol\":\"XBT/USDT\",\"price\":110729.3,\"size\":0.00018624,\"side\":\"sell\",\"order_type\":\"market\",\"ts_event\":1756842651566,\"ts_ingest\":1756842651649}|\n",
      "|crypto.trades|0        |34    |2025-09-02 12:50:01.705|0      |XBT/USDT|{\"exchange\":\"kraken\",\"symbol\":\"XBT/USDT\",\"price\":110708.6,\"size\":0.0094,\"side\":\"buy\",\"order_type\":\"limit\",\"ts_event\":1756842601380,\"ts_ingest\":1756842601705}      |\n",
      "|crypto.trades|0        |33    |2025-09-02 12:49:08.531|0      |XBT/USDT|{\"exchange\":\"kraken\",\"symbol\":\"XBT/USDT\",\"price\":110728.8,\"size\":0.02277176,\"side\":\"buy\",\"order_type\":\"limit\",\"ts_event\":1756842548451,\"ts_ingest\":1756842548531}  |\n",
      "|crypto.trades|0        |32    |2025-09-02 12:48:52.781|0      |XBT/USDT|{\"exchange\":\"kraken\",\"symbol\":\"XBT/USDT\",\"price\":110716.5,\"size\":0.00040133,\"side\":\"sell\",\"order_type\":\"market\",\"ts_event\":1756842532699,\"ts_ingest\":1756842532781}|\n",
      "|crypto.trades|0        |31    |2025-09-02 12:48:48.526|0      |XBT/USDT|{\"exchange\":\"kraken\",\"symbol\":\"XBT/USDT\",\"price\":110702.6,\"size\":8.514e-05,\"side\":\"sell\",\"order_type\":\"limit\",\"ts_event\":1756842528447,\"ts_ingest\":1756842528525}  |\n",
      "|crypto.trades|0        |30    |2025-09-02 12:48:04.822|0      |XBT/USDT|{\"exchange\":\"kraken\",\"symbol\":\"XBT/USDT\",\"price\":110636.5,\"size\":0.0094,\"side\":\"sell\",\"order_type\":\"limit\",\"ts_event\":1756842484698,\"ts_ingest\":1756842484822}     |\n",
      "|crypto.trades|0        |29    |2025-09-02 12:47:20.446|0      |XBT/USDT|{\"exchange\":\"kraken\",\"symbol\":\"XBT/USDT\",\"price\":110585.7,\"size\":2.19e-05,\"side\":\"buy\",\"order_type\":\"limit\",\"ts_event\":1756842440345,\"ts_ingest\":1756842440444}    |\n",
      "|crypto.trades|0        |28    |2025-09-02 12:47:07.887|0      |XBT/USDT|{\"exchange\":\"kraken\",\"symbol\":\"XBT/USDT\",\"price\":110584.7,\"size\":0.00059904,\"side\":\"buy\",\"order_type\":\"limit\",\"ts_event\":1756842427750,\"ts_ingest\":1756842427887}  |\n",
      "|crypto.trades|0        |27    |2025-09-02 12:46:52.118|0      |XBT/USDT|{\"exchange\":\"kraken\",\"symbol\":\"XBT/USDT\",\"price\":110575.9,\"size\":0.01339974,\"side\":\"buy\",\"order_type\":\"limit\",\"ts_event\":1756842412038,\"ts_ingest\":1756842412118}  |\n",
      "+-------------+---------+------+-----------------------+-------+--------+-------------------------------------------------------------------------------------------------------------------------------------------------------------------+\n",
      "only showing top 10 rows\n",
      "\n"
     ]
    }
   ],
   "source": [
    "from pyspark.sql import SparkSession\n",
    "\n",
    "spark = SparkSession.builder.getOrCreate()\n",
    "df = spark.read.parquet(\"data/bronze/crypto_trades\")\n",
    "print(\"rows:\", df.count())\n",
    "df.orderBy(\"offset\", ascending=False).show(10, truncate=False)"
   ]
  },
  {
   "cell_type": "code",
   "execution_count": null,
   "metadata": {},
   "outputs": [],
   "source": []
  }
 ],
 "metadata": {
  "kernelspec": {
   "display_name": ".venv",
   "language": "python",
   "name": "python3"
  },
  "language_info": {
   "codemirror_mode": {
    "name": "ipython",
    "version": 3
   },
   "file_extension": ".py",
   "mimetype": "text/x-python",
   "name": "python",
   "nbconvert_exporter": "python",
   "pygments_lexer": "ipython3",
   "version": "3.13.1"
  }
 },
 "nbformat": 4,
 "nbformat_minor": 2
}
