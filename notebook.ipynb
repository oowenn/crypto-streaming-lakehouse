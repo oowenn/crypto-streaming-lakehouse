{
 "cells": [
  {
   "cell_type": "code",
   "execution_count": 37,
   "metadata": {},
   "outputs": [],
   "source": [
    "from pyspark.sql import SparkSession"
   ]
  },
  {
   "cell_type": "markdown",
   "metadata": {},
   "source": [
    "## Bronze: Ingesting Raw Data"
   ]
  },
  {
   "cell_type": "code",
   "execution_count": 38,
   "metadata": {},
   "outputs": [
    {
     "name": "stdout",
     "output_type": "stream",
     "text": [
      "rows: 159\n",
      "+-------------+---------+------+-----------------------+-------+--------+-------------------------------------------------------------------------------------------------------------------------------------------------------------------+\n",
      "|topic        |partition|offset|ts_kafka               |ts_type|key     |value_raw                                                                                                                                                          |\n",
      "+-------------+---------+------+-----------------------+-------+--------+-------------------------------------------------------------------------------------------------------------------------------------------------------------------+\n",
      "|crypto.trades|0        |158   |2025-09-02 13:52:18.164|0      |XBT/USDT|{\"exchange\":\"kraken\",\"symbol\":\"XBT/USDT\",\"price\":111315.0,\"size\":0.00806979,\"side\":\"sell\",\"order_type\":\"market\",\"ts_event\":1756846338133,\"ts_ingest\":1756846338163}|\n",
      "|crypto.trades|0        |157   |2025-09-02 13:52:18.163|0      |XBT/USDT|{\"exchange\":\"kraken\",\"symbol\":\"XBT/USDT\",\"price\":111315.1,\"size\":0.0021,\"side\":\"sell\",\"order_type\":\"market\",\"ts_event\":1756846338133,\"ts_ingest\":1756846338163}    |\n",
      "|crypto.trades|0        |156   |2025-09-02 13:52:18.163|0      |XBT/USDT|{\"exchange\":\"kraken\",\"symbol\":\"XBT/USDT\",\"price\":111315.2,\"size\":0.08978021,\"side\":\"sell\",\"order_type\":\"market\",\"ts_event\":1756846338133,\"ts_ingest\":1756846338163}|\n",
      "|crypto.trades|0        |155   |2025-09-02 13:52:18.163|0      |XBT/USDT|{\"exchange\":\"kraken\",\"symbol\":\"XBT/USDT\",\"price\":111315.2,\"size\":5e-05,\"side\":\"sell\",\"order_type\":\"market\",\"ts_event\":1756846338133,\"ts_ingest\":1756846338162}     |\n",
      "|crypto.trades|0        |154   |2025-09-02 13:50:21.912|0      |XBT/USDT|{\"exchange\":\"kraken\",\"symbol\":\"XBT/USDT\",\"price\":111349.9,\"size\":0.0011639,\"side\":\"sell\",\"order_type\":\"limit\",\"ts_event\":1756846221804,\"ts_ingest\":1756846221911}  |\n",
      "|crypto.trades|0        |153   |2025-09-02 13:50:11.618|0      |XBT/USDT|{\"exchange\":\"kraken\",\"symbol\":\"XBT/USDT\",\"price\":111350.0,\"size\":0.00103337,\"side\":\"buy\",\"order_type\":\"market\",\"ts_event\":1756846211581,\"ts_ingest\":1756846211616} |\n",
      "|crypto.trades|0        |152   |2025-09-02 13:45:33.144|0      |XBT/USDT|{\"exchange\":\"kraken\",\"symbol\":\"XBT/USDT\",\"price\":111293.2,\"size\":9.26e-06,\"side\":\"sell\",\"order_type\":\"limit\",\"ts_event\":1756845933036,\"ts_ingest\":1756845933141}   |\n",
      "|crypto.trades|0        |151   |2025-09-02 13:42:45.926|0      |XBT/USDT|{\"exchange\":\"kraken\",\"symbol\":\"XBT/USDT\",\"price\":111274.2,\"size\":0.0191,\"side\":\"sell\",\"order_type\":\"market\",\"ts_event\":1756845765863,\"ts_ingest\":1756845765926}    |\n",
      "|crypto.trades|0        |150   |2025-09-02 13:42:45.925|0      |XBT/USDT|{\"exchange\":\"kraken\",\"symbol\":\"XBT/USDT\",\"price\":111284.2,\"size\":0.0009,\"side\":\"sell\",\"order_type\":\"market\",\"ts_event\":1756845765863,\"ts_ingest\":1756845765924}    |\n",
      "|crypto.trades|0        |149   |2025-09-02 13:42:06.641|0      |XBT/USDT|{\"exchange\":\"kraken\",\"symbol\":\"XBT/USDT\",\"price\":111319.4,\"size\":0.00121393,\"side\":\"sell\",\"order_type\":\"market\",\"ts_event\":1756845726602,\"ts_ingest\":1756845726641}|\n",
      "+-------------+---------+------+-----------------------+-------+--------+-------------------------------------------------------------------------------------------------------------------------------------------------------------------+\n",
      "only showing top 10 rows\n",
      "\n"
     ]
    }
   ],
   "source": [
    "spark = SparkSession.builder.getOrCreate()\n",
    "df = spark.read.parquet(\"data/bronze/crypto_trades\")\n",
    "print(\"rows:\", df.count())\n",
    "df.orderBy(\"offset\", ascending=False).show(10, truncate=False)"
   ]
  },
  {
   "cell_type": "markdown",
   "metadata": {},
   "source": [
    "## Silver: Processing Raw Data"
   ]
  },
  {
   "cell_type": "code",
   "execution_count": 39,
   "metadata": {},
   "outputs": [
    {
     "name": "stdout",
     "output_type": "stream",
     "text": [
      "rows: 157\n",
      "+--------+--------+----------+----+-----------------------+-----------------------+\n",
      "|symbol  |price   |size      |side|event_time             |ingest_time            |\n",
      "+--------+--------+----------+----+-----------------------+-----------------------+\n",
      "|XBT/USDT|111315.1|0.0021    |sell|2025-09-02 13:52:18.133|2025-09-02 13:52:18.163|\n",
      "|XBT/USDT|111315.2|5.0E-5    |sell|2025-09-02 13:52:18.133|2025-09-02 13:52:18.162|\n",
      "|XBT/USDT|111315.2|0.08978021|sell|2025-09-02 13:52:18.133|2025-09-02 13:52:18.163|\n",
      "|XBT/USDT|111315.0|0.00806979|sell|2025-09-02 13:52:18.133|2025-09-02 13:52:18.163|\n",
      "|XBT/USDT|111349.9|0.0011639 |sell|2025-09-02 13:50:21.804|2025-09-02 13:50:21.911|\n",
      "|XBT/USDT|111350.0|0.00103337|buy |2025-09-02 13:50:11.581|2025-09-02 13:50:11.616|\n",
      "|XBT/USDT|111293.2|9.26E-6   |sell|2025-09-02 13:45:33.036|2025-09-02 13:45:33.141|\n",
      "|XBT/USDT|111284.2|9.0E-4    |sell|2025-09-02 13:42:45.863|2025-09-02 13:42:45.924|\n",
      "|XBT/USDT|111274.2|0.0191    |sell|2025-09-02 13:42:45.863|2025-09-02 13:42:45.926|\n",
      "|XBT/USDT|111319.4|0.00121393|sell|2025-09-02 13:42:06.602|2025-09-02 13:42:06.641|\n",
      "+--------+--------+----------+----+-----------------------+-----------------------+\n",
      "only showing top 10 rows\n",
      "\n"
     ]
    }
   ],
   "source": [
    "sdf = spark.read.parquet(\"data/silver/trades\")\n",
    "print(\"rows:\", sdf.count())\n",
    "sdf.select(\"symbol\",\"price\",\"size\",\"side\",\"event_time\",\"ingest_time\")\\\n",
    "   .orderBy(\"event_time\", ascending=False).show(10, False)\n"
   ]
  },
  {
   "cell_type": "markdown",
   "metadata": {},
   "source": [
    "## Gold: Aggregating to 1 minute Intervals"
   ]
  },
  {
   "cell_type": "code",
   "execution_count": 40,
   "metadata": {},
   "outputs": [
    {
     "name": "stdout",
     "output_type": "stream",
     "text": [
      "rows: 48\n",
      "+--------+-------------------+--------+--------+--------+--------+---------------------+------------------+------+\n",
      "|symbol  |bar_start          |open    |high    |low     |close   |volume               |vwap              |trades|\n",
      "+--------+-------------------+--------+--------+--------+--------+---------------------+------------------+------+\n",
      "|XBT/USDT|2025-09-02 13:45:00|111293.2|111293.2|111293.2|111293.2|9.26E-6              |111293.20000000001|1     |\n",
      "|XBT/USDT|2025-09-02 13:42:00|111319.4|111319.4|111274.2|111284.2|0.02121393           |111277.21074039557|3     |\n",
      "|XBT/USDT|2025-09-02 13:41:00|111344.8|111344.8|111344.8|111344.8|1.7455E-4            |111344.8          |1     |\n",
      "|XBT/USDT|2025-09-02 13:40:00|111321.3|111350.0|111321.3|111350.0|0.00182073           |111340.55075931082|3     |\n",
      "|XBT/USDT|2025-09-02 13:37:00|111321.4|111321.4|111321.4|111321.4|9.87E-6              |111321.4          |1     |\n",
      "|XBT/USDT|2025-09-02 13:35:00|111230.0|111233.8|111230.0|111233.8|0.00158827           |111230.59753694272|2     |\n",
      "|XBT/USDT|2025-09-02 13:34:00|111209.5|111209.5|111208.6|111208.6|0.0028818199999999998|111208.61141153856|2     |\n",
      "|XBT/USDT|2025-09-02 13:33:00|111112.5|111163.6|111112.5|111163.6|0.0022730800000000002|111139.69557340699|2     |\n",
      "|XBT/USDT|2025-09-02 13:32:00|111108.2|111116.0|111089.2|111089.2|0.11074398           |111111.68326816498|18    |\n",
      "|XBT/USDT|2025-09-02 13:31:00|111212.3|111212.3|111177.1|111177.1|0.01837307           |111193.54573982467|3     |\n",
      "+--------+-------------------+--------+--------+--------+--------+---------------------+------------------+------+\n",
      "only showing top 10 rows\n",
      "\n"
     ]
    }
   ],
   "source": [
    "g = spark.read.parquet(\"data/gold/bars_1m\")\n",
    "print(f'rows: {g.count()}')\n",
    "g.orderBy(\"bar_start\", ascending=False).select(\"symbol\",\"bar_start\",\"open\",\"high\",\"low\",\"close\",\"volume\",\"vwap\",\"trades\").show(10, False)\n"
   ]
  },
  {
   "cell_type": "code",
   "execution_count": null,
   "metadata": {},
   "outputs": [],
   "source": []
  }
 ],
 "metadata": {
  "kernelspec": {
   "display_name": ".venv",
   "language": "python",
   "name": "python3"
  },
  "language_info": {
   "codemirror_mode": {
    "name": "ipython",
    "version": 3
   },
   "file_extension": ".py",
   "mimetype": "text/x-python",
   "name": "python",
   "nbconvert_exporter": "python",
   "pygments_lexer": "ipython3",
   "version": "3.13.1"
  }
 },
 "nbformat": 4,
 "nbformat_minor": 2
}
